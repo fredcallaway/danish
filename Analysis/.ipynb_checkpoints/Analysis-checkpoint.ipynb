{
 "cells": [
  {
   "cell_type": "code",
   "execution_count": 4,
   "metadata": {
    "collapsed": true
   },
   "outputs": [],
   "source": [
    "%matplotlib inline\n",
    "import matplotlib.pyplot as plt\n",
    "# set up\n",
    "import pickle\n",
    "from glob import glob\n",
    "import pandas as pd\n",
    "import seaborn as sns\n",
    "\n",
    "from analysis import *\n",
    "\n",
    "sns.set(context='notebook', style='whitegrid', palette='muted', font_scale=1.2)"
   ]
  },
  {
   "cell_type": "code",
   "execution_count": 5,
   "metadata": {
    "collapsed": true
   },
   "outputs": [],
   "source": [
    "# helper functions\n",
    "def get_data_frame(columns=None):\n",
    "    \"\"\"Returns a pandas data frame for nets in ../SRN/nets/\"\"\"\n",
    "\n",
    "    default_cols = ['time', 'lang', 'distributed', 'seed', 'word_F',\n",
    "                       'contoid_accuracy', 'vocoid_accuracy']\n",
    "\n",
    "    all_cols = ['time', 'lang', 'distributed', 'seed', 'hidden', 'rate', 'momentum',\n",
    "                   'ticks', 'rand_range', 'num_train', 'boundary_precision',\n",
    "                   'boundary_recall', 'boundary_F', 'word_precision', 'word_recall',\n",
    "                   'word_F', 'contoid_accuracy', 'vocoid_accuracy', 'contoid_reaction',\n",
    "                   'vocoid_reaction', 'contoid_std', 'vocoid_std', 'contoid_rts', 'vocoid_rts',\n",
    "                   'contoid_errors', 'vocoid_errors']\n",
    "\n",
    "    if columns is None:\n",
    "        cols = default_cols\n",
    "    elif columns == 'all':\n",
    "        cols = all_cols\n",
    "    else:\n",
    "        cols = default_cols + columns\n",
    "        cols = sorted(cols, key=lambda col: all_cols.index(col))\n",
    "\n",
    "    d = {col: [] for col in cols}  \n",
    "    # for each net, append each attribute to the respective column\n",
    "    for net_file in glob('../SRN/nets/*.p'):\n",
    "        net = pickle.load(open(net_file))\n",
    "        for attr in d.keys():\n",
    "            d[attr].append(getattr(net, attr, None))\n",
    "\n",
    "    df = pd.DataFrame.from_dict(d)\n",
    "    df = df.reindex_axis(cols, axis=1)\n",
    "    return df\n",
    "\n",
    "\n",
    "def fix_column_labels(df):\n",
    "    \"\"\"Fixes column labels in place\"\"\"\n",
    "    replacements = {'lang': 'language', '_': ' ', 'reaction': 'reaction time'}\n",
    "    new_labels = []\n",
    "    for label in df.columns:\n",
    "        for old, new in replacements.items():\n",
    "            label = label.replace(old, new)\n",
    "        label = label.capitalize()\n",
    "        new_labels.append(label)\n",
    "    df.columns = new_labels"
   ]
  },
  {
   "cell_type": "code",
   "execution_count": null,
   "metadata": {
    "collapsed": false
   },
   "outputs": [],
   "source": [
    "df = get_data_frame(columns='all')\n",
    "fix_column_labels(df)\n",
    "df = df[['Language', 'Distributed', 'Contoid accuracy', 'Vocoid accuracy']]\n",
    "df = pd.melt(df, ['Language', 'Distributed'], var_name='Condition', value_name='Accuracy')\n",
    "\n",
    "g = sns.factorplot('Language', 'Accuracy', hue='Condition', data=df,\n",
    "                   kind='bar', legend_out=True)\n",
    "g.despine(left=True)\n",
    "plt.show()"
   ]
  },
  {
   "cell_type": "code",
   "execution_count": null,
   "metadata": {
    "collapsed": true
   },
   "outputs": [],
   "source": [
    "import numpy as np\n",
    "x = np.linspace(0, 3*np.pi, 500)\n",
    "plt.plot(x, np.sin(x**2))\n",
    "plt.title('A simple chirp');"
   ]
  },
  {
   "cell_type": "code",
   "execution_count": null,
   "metadata": {
    "collapsed": true
   },
   "outputs": [],
   "source": [
    "print 4"
   ]
  }
 ],
 "metadata": {
  "kernelspec": {
   "display_name": "Python 2",
   "language": "python",
   "name": "python2"
  },
  "language_info": {
   "codemirror_mode": {
    "name": "ipython",
    "version": 2
   },
   "file_extension": ".py",
   "mimetype": "text/x-python",
   "name": "python",
   "nbconvert_exporter": "python",
   "pygments_lexer": "ipython2",
   "version": "2.7.9"
  }
 },
 "nbformat": 4,
 "nbformat_minor": 0
}

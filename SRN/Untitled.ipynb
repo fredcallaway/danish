{
 "cells": [
  {
   "cell_type": "code",
   "execution_count": 2,
   "metadata": {
    "collapsed": true
   },
   "outputs": [],
   "source": [
    "%matplotlib inline"
   ]
  },
  {
   "cell_type": "code",
   "execution_count": 9,
   "metadata": {
    "collapsed": true
   },
   "outputs": [],
   "source": [
    "from sklearn import metrics\n",
    "import joblib\n",
    "import pandas as pd\n",
    "import itertools\n",
    "import matplotlib.pyplot as plt\n",
    "import seaborn as sns\n",
    "sns.set_style('whitegrid')\n",
    "sns.set_palette('muted')"
   ]
  },
  {
   "cell_type": "code",
   "execution_count": 24,
   "metadata": {
    "collapsed": false
   },
   "outputs": [
    {
     "ename": "SyntaxError",
     "evalue": "invalid syntax (network.py, line 199)",
     "output_type": "error",
     "traceback": [
      "\u001b[0;36m  File \u001b[0;32m\"/Users/fred/danish/SRN/network.py\"\u001b[0;36m, line \u001b[0;32m199\u001b[0m\n\u001b[0;31m    print 'NOW RUNNING %s NETS' % len(parameters)\u001b[0m\n\u001b[0m                              ^\u001b[0m\n\u001b[0;31mSyntaxError\u001b[0m\u001b[0;31m:\u001b[0m invalid syntax\n"
     ]
    }
   ],
   "source": [
    "from network import Network"
   ]
  },
  {
   "cell_type": "code",
   "execution_count": 42,
   "metadata": {
    "collapsed": false
   },
   "outputs": [
    {
     "name": "stdout",
     "output_type": "stream",
     "text": [
      "english\n",
      "danish\n"
     ]
    }
   ],
   "source": [
    "def roc(lang):\n",
    "    error = joblib.load('pickles/%s_break' % lang)\n",
    "    boundaries = joblib.load('pickles/%s_boundaries' % lang)\n",
    "    fpr, tpr, _ = metrics.roc_curve(boundaries, error)\n",
    "\n",
    "    return {'lang': lang, 'fpr': fpr, 'tpr': tpr, 'auc': metrics.auc(fpr, tpr)}\n",
    "\n",
    "df = pd.DataFrame([roc('english'), roc('danish')])\n",
    "for i, row in df.iterrows():\n",
    "    print(row.lang)"
   ]
  },
  {
   "cell_type": "code",
   "execution_count": 51,
   "metadata": {
    "collapsed": true
   },
   "outputs": [],
   "source": [
    "def roc_plot(df):\n",
    "    ax = plt.subplot(1,1,1)\n",
    "    plt.plot([0, 1], [0, 1], 'k--')\n",
    "    plt.xlim([0.0, 1.0])\n",
    "    plt.ylim([0.0, 1.05])\n",
    "    plt.xlabel('False Positive Rate')\n",
    "    plt.ylabel('True Positive Rate')\n",
    "\n",
    "    for i, row in df.iterrows():\n",
    "        plt.plot(row.fpr, row.tpr, label='{0} (area = {1:0.2f})'\n",
    "                 .format(row.lang, row.auc))\n",
    "\n",
    "    # Sort labels in legend.\n",
    "    handles, labels = ax.get_legend_handles_labels()\n",
    "    def get_aoc(handle_label):\n",
    "        label = handle_label[1]\n",
    "        return float(label[-5:-1])\n",
    "    hl = sorted(zip(handles, labels), key=get_aoc, reverse=True)\n",
    "    handles2, labels2 = zip(*hl)\n",
    "    ax.legend(handles2, labels2, loc=4, frameon=True)\n",
    "\n",
    "    plt.gca().set_aspect('equal', adjustable='box')\n",
    "    plt.gcf().set_size_inches(4, 4)"
   ]
  },
  {
   "cell_type": "raw",
   "metadata": {},
   "source": [
    "roc_plot(df)\n",
    "plt.title('Word boundary detection')\n",
    "plt.savefig('roc.pdf')"
   ]
  },
  {
   "cell_type": "code",
   "execution_count": null,
   "metadata": {
    "collapsed": true
   },
   "outputs": [],
   "source": [
    "def random_walk()"
   ]
  }
 ],
 "metadata": {
  "kernelspec": {
   "display_name": "Python 3",
   "language": "python",
   "name": "python3"
  },
  "language_info": {
   "codemirror_mode": {
    "name": "ipython",
    "version": 3
   },
   "file_extension": ".py",
   "mimetype": "text/x-python",
   "name": "python",
   "nbconvert_exporter": "python",
   "pygments_lexer": "ipython3",
   "version": "3.5.1"
  }
 },
 "nbformat": 4,
 "nbformat_minor": 0
}
